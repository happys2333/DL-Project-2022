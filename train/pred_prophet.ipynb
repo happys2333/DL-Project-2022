{
 "cells": [
  {
   "cell_type": "code",
   "execution_count": 67,
   "metadata": {
    "collapsed": true
   },
   "outputs": [],
   "source": [
    "import os\n",
    "import logging\n",
    "from tqdm import tqdm\n",
    "from prophet import Prophet\n",
    "import numpy as np\n",
    "import pandas as pd\n",
    "from sklearn.preprocessing import StandardScaler\n",
    "import matplotlib.pyplot as plt\n",
    "from util.dataset import ECL,WTH,ETT\n",
    "from util.metrics import MAE, MSE\n",
    "%matplotlib inline\n",
    "\n",
    "logging.getLogger('prophet').setLevel(logging.WARNING)"
   ]
  },
  {
   "cell_type": "code",
   "execution_count": 29,
   "metadata": {
    "collapsed": false,
    "pycharm": {
     "name": "#%%\n"
    }
   },
   "outputs": [],
   "source": [
    "class suppress_stdout_stderr(object):\n",
    "    '''\n",
    "    A context manager for doing a \"deep suppression\" of stdout and stderr in\n",
    "    Python, i.e. will suppress all print, even if the print originates in a\n",
    "    compiled C/Fortran sub-function.\n",
    "       This will not suppress raised exceptions, since exceptions are printed\n",
    "    to stderr just before a script exits, and after the context manager has\n",
    "    exited (at least, I think that is why it lets exceptions through).\n",
    "\n",
    "    '''\n",
    "    def __init__(self):\n",
    "        # Open a pair of null files\n",
    "        self.null_fds = [os.open(os.devnull, os.O_RDWR) for x in range(2)]\n",
    "        # Save the actual stdout (1) and stderr (2) file descriptors.\n",
    "        self.save_fds = (os.dup(1), os.dup(2))\n",
    "\n",
    "    def __enter__(self):\n",
    "        # Assign the null pointers to stdout and stderr.\n",
    "        os.dup2(self.null_fds[0], 1)\n",
    "        os.dup2(self.null_fds[1], 2)\n",
    "\n",
    "    def __exit__(self, *_):\n",
    "        # Re-assign the real stdout/stderr back to (1) and (2)\n",
    "        os.dup2(self.save_fds[0], 1)\n",
    "        os.dup2(self.save_fds[1], 2)\n",
    "        # Close the null files\n",
    "        os.close(self.null_fds[0])\n",
    "        os.close(self.null_fds[1])\n",
    "\n",
    "def scale_data(original_data):\n",
    "    sclr = StandardScaler()\n",
    "    norm_data = scaler.fit_transform(original_data.iloc[:, 1:])\n",
    "\n",
    "    original_data.iloc[:, 1:] = norm_data\n",
    "    return original_data, sclr"
   ]
  },
  {
   "cell_type": "code",
   "execution_count": 70,
   "metadata": {
    "collapsed": false,
    "pycharm": {
     "name": "#%%\n"
    }
   },
   "outputs": [],
   "source": [
    "def cross_valid(data, training_len, predict_len, sample_n, show=False,freq=\"H\"):\n",
    "    L, N = data.shape\n",
    "    total_len = training_len + predict_len\n",
    "    stride = (L - total_len) // ((sample_n - 1) if sample_n > 1 else 1)\n",
    "\n",
    "    preds = np.zeros((sample_n, predict_len))\n",
    "    gts = np.zeros((sample_n, predict_len))\n",
    "\n",
    "    bar = tqdm(total=sample_n)\n",
    "    for i in range(sample_n):\n",
    "        data_part = data.iloc[stride * i:stride * i + total_len, :]\n",
    "        train_data, test_data = data_part.iloc[:-predict_len, :], data_part.iloc[-predict_len:, :]\n",
    "\n",
    "        m = Prophet()\n",
    "        m.fit(train_data)\n",
    "        future = m.make_future_dataframe(periods=predict_len, freq=freq)  # shape: (len(train_data) + pre_len, 2)\n",
    "        forecast = m.predict(future)\n",
    "\n",
    "        pred = np.array(forecast.yhat[-predict_len:])\n",
    "        ground_truth = np.array(test_data.iloc[:, 1])\n",
    "        if show:\n",
    "            plt.plot(pred, label=\"Pred\")\n",
    "            plt.plot(ground_truth, label=\"GT\")\n",
    "            plt.legend()\n",
    "\n",
    "        preds[i] = pred\n",
    "        gts[i] = ground_truth\n",
    "        bar.update()\n",
    "\n",
    "    mse = np.mean(MSE(preds, gts))\n",
    "    mae = np.mean(MAE(preds, gts))\n",
    "    mtc = {\"mse\": mse, \"mae\": mae}\n",
    "    return mtc\n",
    "\n",
    "\n",
    "def predict(training_data: pd.DataFrame, testing_data: pd.DataFrame, show=True):\n",
    "    train_len, pre_len = training_data.shape[0], testing_data.shape[0]\n",
    "\n",
    "    m = Prophet()\n",
    "    m.fit(mt320_training)\n",
    "\n",
    "    future = m.make_future_dataframe(periods=pre_len, freq=\"H\")  # shape: (len(train_data) + pre_len, 2)\n",
    "    # print(future.tail())\n",
    "\n",
    "    forecast = m.predict(future)  # ['ds', 'yhat', 'yhat_lower', 'yhat_upper']\n",
    "    # print(forecast[['ds', 'yhat', 'yhat_lower', 'yhat_upper']].tail())\n",
    "\n",
    "    pred = np.array(forecast.yhat[-pre_len:])\n",
    "    ground_truth = np.array(testing_data.iloc[:, 1])\n",
    "\n",
    "    mtc = dict()\n",
    "    mtc[\"mse\"] = MSE(pred, ground_truth)\n",
    "    mtc[\"mae\"] = MAE(pred, ground_truth)\n",
    "\n",
    "    if show:\n",
    "        plt.plot(pred, label=\"Pred\")\n",
    "        plt.plot(ground_truth, label=\"GT\")\n",
    "        plt.legend()\n",
    "\n",
    "    return m, mtc"
   ]
  },
  {
   "cell_type": "markdown",
   "metadata": {
    "collapsed": false,
    "pycharm": {
     "name": "#%% md\n"
    }
   },
   "source": [
    "# ECL"
   ]
  },
  {
   "cell_type": "code",
   "execution_count": 4,
   "metadata": {
    "collapsed": false,
    "pycharm": {
     "name": "#%%\n"
    }
   },
   "outputs": [
    {
     "name": "stdout",
     "output_type": "stream",
     "text": [
      "(26304, 322)\n"
     ]
    }
   ],
   "source": [
    "# normalize\n",
    "ecl_data = ECL().df\n",
    "\n",
    "scaler = StandardScaler()\n",
    "ecl_data_norm = scaler.fit_transform(ecl_data.iloc[:, 1:])\n",
    "\n",
    "ecl_data.iloc[:, 1:] = ecl_data_norm\n",
    "ecl_data.head()\n",
    "print(ecl_data.shape)"
   ]
  },
  {
   "cell_type": "markdown",
   "metadata": {
    "collapsed": false,
    "pycharm": {
     "name": "#%% md\n"
    }
   },
   "source": [
    "## 1. univariate long sequence time-series"
   ]
  },
  {
   "cell_type": "code",
   "execution_count": 18,
   "metadata": {
    "collapsed": false,
    "pycharm": {
     "name": "#%%\n"
    }
   },
   "outputs": [
    {
     "name": "stdout",
     "output_type": "stream",
     "text": [
      "{'mse': array([0.20427291]), 'mae': array([0.33883482])}\n"
     ]
    },
    {
     "data": {
      "image/png": "[encoded data removed]",
      "text/plain": [
       "<Figure size 432x288 with 1 Axes>"
      ]
     },
     "metadata": {
      "needs_background": "light"
     },
     "output_type": "display_data"
    }
   ],
   "source": [
    "pre_len, train_len, offset = 168, 168, 0\n",
    "# mt320 = ecl_data.iloc[-(train_len + pre_len) - offset:-offset if offset != 0 else None, [0, -1]].rename(\n",
    "#     columns={\"date\": \"ds\", \"MT_320\": \"y\"})\n",
    "\n",
    "mt320 = ecl_data.iloc[:(train_len + pre_len), [0, -1]].rename(\n",
    "    columns={\"date\": \"ds\", \"MT_320\": \"y\"})\n",
    "mt320_training = mt320.iloc[:-pre_len, :]\n",
    "mt320_testing = mt320.iloc[-pre_len:, :]\n",
    "# print(mt320.head(5))\n",
    "with suppress_stdout_stderr():\n",
    "    model, metrics = predict(mt320_training, mt320_testing)\n",
    "print(metrics)"
   ]
  },
  {
   "cell_type": "code",
   "execution_count": 23,
   "metadata": {
    "collapsed": false,
    "pycharm": {
     "name": "#%%\n"
    }
   },
   "outputs": [
    {
     "name": "stderr",
     "output_type": "stream",
     "text": [
      "100%|██████████| 500/500 [07:49<00:00,  1.06it/s]"
     ]
    },
    {
     "name": "stdout",
     "output_type": "stream",
     "text": [
      "{'mse': 2.097184660937773, 'mae': 1.1077438408469207}\n"
     ]
    },
    {
     "name": "stderr",
     "output_type": "stream",
     "text": [
      "\n"
     ]
    }
   ],
   "source": [
    "mt320_all = ecl_data.iloc[:, [0, -1]].rename(columns={\"date\": \"ds\", \"MT_320\": \"y\"})\n",
    "pre_len, train_len = 168, 168\n",
    "with suppress_stdout_stderr():\n",
    "    metric = cross_valid(mt320_all, train_len, pre_len, 500)\n",
    "print(metric)"
   ]
  },
  {
   "cell_type": "code",
   "execution_count": 26,
   "metadata": {
    "collapsed": false,
    "pycharm": {
     "name": "#%%\n"
    }
   },
   "outputs": [
    {
     "name": "stdout",
     "output_type": "stream",
     "text": [
      "ECL: {'mse': 2.097184660937773, 'mae': 1.1077438408469207}\n"
     ]
    }
   ],
   "source": [
    "print(\"ECL:\", metric)"
   ]
  },
  {
   "cell_type": "markdown",
   "metadata": {
    "collapsed": false,
    "pycharm": {
     "name": "#%% md\n"
    }
   },
   "source": [
    "# WHT"
   ]
  },
  {
   "cell_type": "code",
   "execution_count": 34,
   "metadata": {
    "collapsed": false,
    "pycharm": {
     "name": "#%%\n"
    }
   },
   "outputs": [
    {
     "name": "stdout",
     "output_type": "stream",
     "text": [
      "(35064, 13)\n"
     ]
    },
    {
     "data": {
      "text/html": [
       "<div>\n",
       "<style scoped>\n",
       "    .dataframe tbody tr th:only-of-type {\n",
       "        vertical-align: middle;\n",
       "    }\n",
       "\n",
       "    .dataframe tbody tr th {\n",
       "        vertical-align: top;\n",
       "    }\n",
       "\n",
       "    .dataframe thead th {\n",
       "        text-align: right;\n",
       "    }\n",
       "</style>\n",
       "<table border=\"1\" class=\"dataframe\">\n",
       "  <thead>\n",
       "    <tr style=\"text-align: right;\">\n",
       "      <th></th>\n",
       "      <th>date</th>\n",
       "      <th>Visibility</th>\n",
       "      <th>DryBulbFarenheit</th>\n",
       "      <th>DryBulbCelsius</th>\n",
       "      <th>WetBulbFarenheit</th>\n",
       "      <th>DewPointFarenheit</th>\n",
       "      <th>DewPointCelsius</th>\n",
       "      <th>RelativeHumidity</th>\n",
       "      <th>WindSpeed</th>\n",
       "      <th>WindDirection</th>\n",
       "      <th>StationPressure</th>\n",
       "      <th>Altimeter</th>\n",
       "      <th>WetBulbCelsius</th>\n",
       "    </tr>\n",
       "  </thead>\n",
       "  <tbody>\n",
       "    <tr>\n",
       "      <th>0</th>\n",
       "      <td>1/1/2010 0:00</td>\n",
       "      <td>0.301781</td>\n",
       "      <td>-1.580651</td>\n",
       "      <td>-1.605506</td>\n",
       "      <td>-1.632744</td>\n",
       "      <td>-1.014166</td>\n",
       "      <td>-1.035522</td>\n",
       "      <td>0.682362</td>\n",
       "      <td>0.278284</td>\n",
       "      <td>-0.025625</td>\n",
       "      <td>0.681993</td>\n",
       "      <td>0.652382</td>\n",
       "      <td>-1.641876</td>\n",
       "    </tr>\n",
       "    <tr>\n",
       "      <th>1</th>\n",
       "      <td>1/1/2010 1:00</td>\n",
       "      <td>0.301781</td>\n",
       "      <td>-1.580651</td>\n",
       "      <td>-1.605506</td>\n",
       "      <td>-1.632744</td>\n",
       "      <td>-1.014166</td>\n",
       "      <td>-1.035522</td>\n",
       "      <td>0.682362</td>\n",
       "      <td>-0.134472</td>\n",
       "      <td>0.170172</td>\n",
       "      <td>0.624802</td>\n",
       "      <td>0.608931</td>\n",
       "      <td>-1.641876</td>\n",
       "    </tr>\n",
       "    <tr>\n",
       "      <th>2</th>\n",
       "      <td>1/1/2010 2:00</td>\n",
       "      <td>0.301781</td>\n",
       "      <td>-1.580651</td>\n",
       "      <td>-1.605506</td>\n",
       "      <td>-1.632744</td>\n",
       "      <td>-1.014166</td>\n",
       "      <td>-1.035522</td>\n",
       "      <td>0.682362</td>\n",
       "      <td>-0.134472</td>\n",
       "      <td>0.561768</td>\n",
       "      <td>0.681993</td>\n",
       "      <td>0.652382</td>\n",
       "      <td>-1.641876</td>\n",
       "    </tr>\n",
       "    <tr>\n",
       "      <th>3</th>\n",
       "      <td>1/1/2010 3:00</td>\n",
       "      <td>0.301781</td>\n",
       "      <td>-1.580651</td>\n",
       "      <td>-1.605506</td>\n",
       "      <td>-1.632744</td>\n",
       "      <td>-1.014166</td>\n",
       "      <td>-1.035522</td>\n",
       "      <td>0.682362</td>\n",
       "      <td>0.278284</td>\n",
       "      <td>0.463869</td>\n",
       "      <td>0.681993</td>\n",
       "      <td>0.652382</td>\n",
       "      <td>-1.641876</td>\n",
       "    </tr>\n",
       "    <tr>\n",
       "      <th>4</th>\n",
       "      <td>1/1/2010 4:00</td>\n",
       "      <td>0.301781</td>\n",
       "      <td>-1.580651</td>\n",
       "      <td>-1.605506</td>\n",
       "      <td>-1.553935</td>\n",
       "      <td>-0.876306</td>\n",
       "      <td>-0.911101</td>\n",
       "      <td>0.960769</td>\n",
       "      <td>0.071906</td>\n",
       "      <td>-0.123524</td>\n",
       "      <td>0.624802</td>\n",
       "      <td>0.608931</td>\n",
       "      <td>-1.598387</td>\n",
       "    </tr>\n",
       "  </tbody>\n",
       "</table>\n",
       "</div>"
      ],
      "text/plain": [
       "            date  Visibility  DryBulbFarenheit  DryBulbCelsius  \\\n",
       "0  1/1/2010 0:00    0.301781         -1.580651       -1.605506   \n",
       "1  1/1/2010 1:00    0.301781         -1.580651       -1.605506   \n",
       "2  1/1/2010 2:00    0.301781         -1.580651       -1.605506   \n",
       "3  1/1/2010 3:00    0.301781         -1.580651       -1.605506   \n",
       "4  1/1/2010 4:00    0.301781         -1.580651       -1.605506   \n",
       "\n",
       "   WetBulbFarenheit  DewPointFarenheit  DewPointCelsius  RelativeHumidity  \\\n",
       "0         -1.632744          -1.014166        -1.035522          0.682362   \n",
       "1         -1.632744          -1.014166        -1.035522          0.682362   \n",
       "2         -1.632744          -1.014166        -1.035522          0.682362   \n",
       "3         -1.632744          -1.014166        -1.035522          0.682362   \n",
       "4         -1.553935          -0.876306        -0.911101          0.960769   \n",
       "\n",
       "   WindSpeed  WindDirection  StationPressure  Altimeter  WetBulbCelsius  \n",
       "0   0.278284      -0.025625         0.681993   0.652382       -1.641876  \n",
       "1  -0.134472       0.170172         0.624802   0.608931       -1.641876  \n",
       "2  -0.134472       0.561768         0.681993   0.652382       -1.641876  \n",
       "3   0.278284       0.463869         0.681993   0.652382       -1.641876  \n",
       "4   0.071906      -0.123524         0.624802   0.608931       -1.598387  "
      ]
     },
     "execution_count": 34,
     "metadata": {},
     "output_type": "execute_result"
    }
   ],
   "source": [
    "wth_data = WTH().df\n",
    "wth_norm, wth_scaler = scale_data(wth_data)\n",
    "print(wth_norm.shape)\n",
    "wth_norm.head()"
   ]
  },
  {
   "cell_type": "code",
   "execution_count": 41,
   "metadata": {
    "collapsed": false,
    "pycharm": {
     "name": "#%%\n"
    }
   },
   "outputs": [
    {
     "name": "stderr",
     "output_type": "stream",
     "text": [
      "  1%|          | 4/500 [00:19<40:20,  4.88s/it]\n",
      "100%|██████████| 500/500 [07:50<00:00,  1.06it/s]\n"
     ]
    }
   ],
   "source": [
    "wth_wetbulb = wth_norm.iloc[:, [0,-1]].rename(columns={\"date\": \"ds\", \"WetBulbCelsius\": \"y\"})\n",
    "wth_pre_len, wth_train_len = 168, 168\n",
    "with suppress_stdout_stderr():\n",
    "    wth_metric = cross_valid(wth_wetbulb, wth_train_len, wth_pre_len, 500)"
   ]
  },
  {
   "cell_type": "code",
   "execution_count": 48,
   "metadata": {
    "collapsed": false,
    "pycharm": {
     "name": "#%%\n"
    }
   },
   "outputs": [
    {
     "name": "stdout",
     "output_type": "stream",
     "text": [
      "WTH {'mse': 1.4274611977953522, 'mae': 0.7837144648625112}\n"
     ]
    }
   ],
   "source": [
    "print(\"WTH\", wth_metric)"
   ]
  },
  {
   "cell_type": "markdown",
   "metadata": {
    "collapsed": false,
    "pycharm": {
     "name": "#%% md\n"
    }
   },
   "source": [
    "# ETT"
   ]
  },
  {
   "cell_type": "code",
   "execution_count": 43,
   "metadata": {
    "collapsed": false,
    "pycharm": {
     "name": "#%%\n"
    }
   },
   "outputs": [],
   "source": [
    "ett_data = ETT()"
   ]
  },
  {
   "cell_type": "markdown",
   "metadata": {
    "collapsed": false,
    "pycharm": {
     "name": "#%% md\n"
    }
   },
   "source": [
    "## ETTh1"
   ]
  },
  {
   "cell_type": "code",
   "execution_count": 44,
   "metadata": {
    "collapsed": false,
    "pycharm": {
     "name": "#%%\n"
    }
   },
   "outputs": [
    {
     "name": "stdout",
     "output_type": "stream",
     "text": [
      "(17420, 8)\n"
     ]
    },
    {
     "data": {
      "text/html": [
       "<div>\n",
       "<style scoped>\n",
       "    .dataframe tbody tr th:only-of-type {\n",
       "        vertical-align: middle;\n",
       "    }\n",
       "\n",
       "    .dataframe tbody tr th {\n",
       "        vertical-align: top;\n",
       "    }\n",
       "\n",
       "    .dataframe thead th {\n",
       "        text-align: right;\n",
       "    }\n",
       "</style>\n",
       "<table border=\"1\" class=\"dataframe\">\n",
       "  <thead>\n",
       "    <tr style=\"text-align: right;\">\n",
       "      <th></th>\n",
       "      <th>date</th>\n",
       "      <th>HUFL</th>\n",
       "      <th>HULL</th>\n",
       "      <th>MUFL</th>\n",
       "      <th>MULL</th>\n",
       "      <th>LUFL</th>\n",
       "      <th>LULL</th>\n",
       "      <th>OT</th>\n",
       "    </tr>\n",
       "  </thead>\n",
       "  <tbody>\n",
       "    <tr>\n",
       "      <th>0</th>\n",
       "      <td>2016-07-01 00:00:00</td>\n",
       "      <td>-0.219049</td>\n",
       "      <td>-0.114207</td>\n",
       "      <td>-0.395683</td>\n",
       "      <td>-0.231903</td>\n",
       "      <td>0.976355</td>\n",
       "      <td>0.805738</td>\n",
       "      <td>2.008513</td>\n",
       "    </tr>\n",
       "    <tr>\n",
       "      <th>1</th>\n",
       "      <td>2016-07-01 01:00:00</td>\n",
       "      <td>-0.238009</td>\n",
       "      <td>-0.081400</td>\n",
       "      <td>-0.411356</td>\n",
       "      <td>-0.251800</td>\n",
       "      <td>0.923970</td>\n",
       "      <td>0.857445</td>\n",
       "      <td>1.688203</td>\n",
       "    </tr>\n",
       "    <tr>\n",
       "      <th>2</th>\n",
       "      <td>2016-07-01 02:00:00</td>\n",
       "      <td>-0.313849</td>\n",
       "      <td>-0.245432</td>\n",
       "      <td>-0.442557</td>\n",
       "      <td>-0.291043</td>\n",
       "      <td>0.610524</td>\n",
       "      <td>0.602247</td>\n",
       "      <td>1.688203</td>\n",
       "    </tr>\n",
       "    <tr>\n",
       "      <th>3</th>\n",
       "      <td>2016-07-01 03:00:00</td>\n",
       "      <td>-0.323329</td>\n",
       "      <td>-0.147013</td>\n",
       "      <td>-0.442557</td>\n",
       "      <td>-0.271146</td>\n",
       "      <td>0.636286</td>\n",
       "      <td>0.703993</td>\n",
       "      <td>1.368010</td>\n",
       "    </tr>\n",
       "    <tr>\n",
       "      <th>4</th>\n",
       "      <td>2016-07-01 04:00:00</td>\n",
       "      <td>-0.285409</td>\n",
       "      <td>-0.147013</td>\n",
       "      <td>-0.411356</td>\n",
       "      <td>-0.231903</td>\n",
       "      <td>0.688671</td>\n",
       "      <td>0.703993</td>\n",
       "      <td>1.006610</td>\n",
       "    </tr>\n",
       "  </tbody>\n",
       "</table>\n",
       "</div>"
      ],
      "text/plain": [
       "                  date      HUFL      HULL      MUFL      MULL      LUFL  \\\n",
       "0  2016-07-01 00:00:00 -0.219049 -0.114207 -0.395683 -0.231903  0.976355   \n",
       "1  2016-07-01 01:00:00 -0.238009 -0.081400 -0.411356 -0.251800  0.923970   \n",
       "2  2016-07-01 02:00:00 -0.313849 -0.245432 -0.442557 -0.291043  0.610524   \n",
       "3  2016-07-01 03:00:00 -0.323329 -0.147013 -0.442557 -0.271146  0.636286   \n",
       "4  2016-07-01 04:00:00 -0.285409 -0.147013 -0.411356 -0.231903  0.688671   \n",
       "\n",
       "       LULL        OT  \n",
       "0  0.805738  2.008513  \n",
       "1  0.857445  1.688203  \n",
       "2  0.602247  1.688203  \n",
       "3  0.703993  1.368010  \n",
       "4  0.703993  1.006610  "
      ]
     },
     "execution_count": 44,
     "metadata": {},
     "output_type": "execute_result"
    }
   ],
   "source": [
    "ett_h1_data = ett_data.df_h1\n",
    "etth1_norm, etth1_scaler = scale_data(ett_h1_data)\n",
    "print(etth1_norm.shape)\n",
    "etth1_norm.head()"
   ]
  },
  {
   "cell_type": "code",
   "execution_count": 49,
   "metadata": {
    "collapsed": false,
    "pycharm": {
     "name": "#%%\n"
    }
   },
   "outputs": [
    {
     "name": "stderr",
     "output_type": "stream",
     "text": [
      "100%|██████████| 500/500 [07:27<00:00,  1.12it/s]\n"
     ]
    }
   ],
   "source": [
    "etth1_OT = etth1_norm.iloc[:, [0,-1]]\n",
    "etth1_OT.columns = [\"ds\", \"y\"]\n",
    "etth1_pre, etth1_train_len = 168, 168\n",
    "with suppress_stdout_stderr():\n",
    "    etthi_metric = cross_valid(etth1_OT, etth1_train_len, etth1_pre, 500)"
   ]
  },
  {
   "cell_type": "code",
   "execution_count": 50,
   "metadata": {
    "collapsed": false,
    "pycharm": {
     "name": "#%%\n"
    }
   },
   "outputs": [
    {
     "name": "stdout",
     "output_type": "stream",
     "text": [
      "ETTh1 {'mse': 0.907180443383904, 'mae': 0.674066382677807}\n"
     ]
    }
   ],
   "source": [
    "print(\"ETTh1\", etthi_metric)"
   ]
  },
  {
   "cell_type": "markdown",
   "metadata": {
    "collapsed": false
   },
   "source": [
    "## ETTh2"
   ]
  },
  {
   "cell_type": "code",
   "execution_count": 68,
   "metadata": {
    "collapsed": false,
    "pycharm": {
     "name": "#%%\n"
    }
   },
   "outputs": [
    {
     "name": "stdout",
     "output_type": "stream",
     "text": [
      "(17420, 8)\n"
     ]
    },
    {
     "data": {
      "text/html": [
       "<div>\n",
       "<style scoped>\n",
       "    .dataframe tbody tr th:only-of-type {\n",
       "        vertical-align: middle;\n",
       "    }\n",
       "\n",
       "    .dataframe tbody tr th {\n",
       "        vertical-align: top;\n",
       "    }\n",
       "\n",
       "    .dataframe thead th {\n",
       "        text-align: right;\n",
       "    }\n",
       "</style>\n",
       "<table border=\"1\" class=\"dataframe\">\n",
       "  <thead>\n",
       "    <tr style=\"text-align: right;\">\n",
       "      <th></th>\n",
       "      <th>date</th>\n",
       "      <th>HUFL</th>\n",
       "      <th>HULL</th>\n",
       "      <th>MUFL</th>\n",
       "      <th>MULL</th>\n",
       "      <th>LUFL</th>\n",
       "      <th>LULL</th>\n",
       "      <th>OT</th>\n",
       "    </tr>\n",
       "  </thead>\n",
       "  <tbody>\n",
       "    <tr>\n",
       "      <th>0</th>\n",
       "      <td>2016-07-01 00:00:00</td>\n",
       "      <td>0.385246</td>\n",
       "      <td>0.655026</td>\n",
       "      <td>-0.558680</td>\n",
       "      <td>0.236445</td>\n",
       "      <td>1.277232</td>\n",
       "      <td>0.564973</td>\n",
       "      <td>1.013854</td>\n",
       "    </tr>\n",
       "    <tr>\n",
       "      <th>1</th>\n",
       "      <td>2016-07-01 01:00:00</td>\n",
       "      <td>0.032750</td>\n",
       "      <td>0.265509</td>\n",
       "      <td>-0.757815</td>\n",
       "      <td>-0.181105</td>\n",
       "      <td>1.279023</td>\n",
       "      <td>0.549006</td>\n",
       "      <td>0.884479</td>\n",
       "    </tr>\n",
       "    <tr>\n",
       "      <th>2</th>\n",
       "      <td>2016-07-01 02:00:00</td>\n",
       "      <td>0.073753</td>\n",
       "      <td>0.460351</td>\n",
       "      <td>-0.651048</td>\n",
       "      <td>0.156738</td>\n",
       "      <td>0.898991</td>\n",
       "      <td>0.346932</td>\n",
       "      <td>0.829045</td>\n",
       "    </tr>\n",
       "    <tr>\n",
       "      <th>3</th>\n",
       "      <td>2016-07-01 03:00:00</td>\n",
       "      <td>0.172104</td>\n",
       "      <td>0.557689</td>\n",
       "      <td>-0.634658</td>\n",
       "      <td>0.254998</td>\n",
       "      <td>1.107317</td>\n",
       "      <td>0.549006</td>\n",
       "      <td>0.588759</td>\n",
       "    </tr>\n",
       "    <tr>\n",
       "      <th>4</th>\n",
       "      <td>2016-07-01 04:00:00</td>\n",
       "      <td>0.090096</td>\n",
       "      <td>0.488090</td>\n",
       "      <td>-0.644921</td>\n",
       "      <td>0.297830</td>\n",
       "      <td>0.888575</td>\n",
       "      <td>0.346932</td>\n",
       "      <td>0.440878</td>\n",
       "    </tr>\n",
       "  </tbody>\n",
       "</table>\n",
       "</div>"
      ],
      "text/plain": [
       "                  date      HUFL      HULL      MUFL      MULL      LUFL  \\\n",
       "0  2016-07-01 00:00:00  0.385246  0.655026 -0.558680  0.236445  1.277232   \n",
       "1  2016-07-01 01:00:00  0.032750  0.265509 -0.757815 -0.181105  1.279023   \n",
       "2  2016-07-01 02:00:00  0.073753  0.460351 -0.651048  0.156738  0.898991   \n",
       "3  2016-07-01 03:00:00  0.172104  0.557689 -0.634658  0.254998  1.107317   \n",
       "4  2016-07-01 04:00:00  0.090096  0.488090 -0.644921  0.297830  0.888575   \n",
       "\n",
       "       LULL        OT  \n",
       "0  0.564973  1.013854  \n",
       "1  0.549006  0.884479  \n",
       "2  0.346932  0.829045  \n",
       "3  0.549006  0.588759  \n",
       "4  0.346932  0.440878  "
      ]
     },
     "execution_count": 68,
     "metadata": {},
     "output_type": "execute_result"
    }
   ],
   "source": [
    "ett_h2_data = ett_data.df_h2\n",
    "etth2_norm, etth2_scaler = scale_data(ett_h2_data)\n",
    "print(etth2_norm.shape)\n",
    "etth2_norm.head()"
   ]
  },
  {
   "cell_type": "code",
   "execution_count": 71,
   "metadata": {
    "collapsed": false,
    "pycharm": {
     "name": "#%%\n"
    }
   },
   "outputs": [
    {
     "name": "stderr",
     "output_type": "stream",
     "text": [
      "  0%|          | 0/500 [02:16<?, ?it/s].09it/s]\n",
      "100%|██████████| 500/500 [07:40<00:00,  1.09it/s]\n"
     ]
    }
   ],
   "source": [
    "etth2_OT = etth2_norm.iloc[:, [0,-1]]\n",
    "etth2_OT.columns = [\"ds\", \"y\"]\n",
    "etth2_pre, etth2_train_len = 168, 168\n",
    "with suppress_stdout_stderr():\n",
    "    etth2_metric = cross_valid(etth2_OT, etth2_train_len, etth2_pre, 500,freq=\"H\")"
   ]
  },
  {
   "cell_type": "code",
   "execution_count": 72,
   "metadata": {
    "collapsed": false,
    "pycharm": {
     "name": "#%%\n"
    }
   },
   "outputs": [
    {
     "name": "stdout",
     "output_type": "stream",
     "text": [
      "ETTm1 {'mse': 0.9993206794132539, 'mae': 0.7090322086433074}\n"
     ]
    }
   ],
   "source": [
    "print(\"ETTm1\", etth2_metric)"
   ]
  },
  {
   "cell_type": "code",
   "execution_count": null,
   "metadata": {
    "collapsed": false,
    "pycharm": {
     "name": "#%%\n"
    }
   },
   "outputs": [],
   "source": []
  }
 ],
 "metadata": {
  "kernelspec": {
   "display_name": "Python 3.10.4 ('DL-Project-2022')",
   "language": "python",
   "name": "python3"
  },
  "language_info": {
   "codemirror_mode": {
    "name": "ipython",
    "version": 2
   },
   "file_extension": ".py",
   "mimetype": "text/x-python",
   "name": "python",
   "nbconvert_exporter": "python",
   "pygments_lexer": "ipython2",
   "version": "3.10.4"
  },
  "vscode": {
   "interpreter": {
    "hash": "cb6bdc51e1b814ed03fa78507ee533e3ba7aa132f3a2385f87caa4e2a7adf4ff"
   }
  }
 },
 "nbformat": 4,
 "nbformat_minor": 0
}
